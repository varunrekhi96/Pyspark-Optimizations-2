{
 "cells": [
  {
   "cell_type": "code",
   "execution_count": 1,
   "id": "07a6f724",
   "metadata": {},
   "outputs": [],
   "source": [
    "from pyspark.sql import SparkSession\n",
    "import getpass\n",
    "username = getpass.getuser()\n",
    "spark = SparkSession. \\\n",
    "builder. \\\n",
    "config('spark.ui.port', '0'). \\\n",
    "config('spark.shuffle.useOldFetchProtocol', 'true'). \\\n",
    "config(\"spark.sql.warehouse.dir\", f\"/user/{username}/warehouse\"). \\\n",
    "enableHiveSupport(). \\\n",
    "master('yarn'). \\\n",
    "getOrCreate()"
   ]
  },
  {
   "cell_type": "code",
   "execution_count": 2,
   "id": "e621b024",
   "metadata": {},
   "outputs": [],
   "source": [
    "orders_df = spark.read \\\n",
    ".format(\"csv\") \\\n",
    ".load(\"/public/trendytech/orders/orders_1gb.csv\")"
   ]
  },
  {
   "cell_type": "code",
   "execution_count": 3,
   "id": "39408713",
   "metadata": {},
   "outputs": [
    {
     "name": "stdout",
     "output_type": "stream",
     "text": [
      "root\n",
      " |-- _c0: string (nullable = true)\n",
      " |-- _c1: string (nullable = true)\n",
      " |-- _c2: string (nullable = true)\n",
      " |-- _c3: string (nullable = true)\n",
      "\n"
     ]
    }
   ],
   "source": [
    "orders_df.printSchema()"
   ]
  },
  {
   "cell_type": "code",
   "execution_count": 4,
   "id": "40c676c4",
   "metadata": {},
   "outputs": [
    {
     "name": "stdout",
     "output_type": "stream",
     "text": [
      "+---+--------------------+-----+---------------+\n",
      "|_c0|                 _c1|  _c2|            _c3|\n",
      "+---+--------------------+-----+---------------+\n",
      "|  1|2013-07-25 00:00:...|11599|         CLOSED|\n",
      "|  2|2013-07-25 00:00:...|  256|PENDING_PAYMENT|\n",
      "|  3|2013-07-25 00:00:...|12111|       COMPLETE|\n",
      "|  4|2013-07-25 00:00:...| 8827|         CLOSED|\n",
      "|  5|2013-07-25 00:00:...|11318|       COMPLETE|\n",
      "|  6|2013-07-25 00:00:...| 7130|       COMPLETE|\n",
      "|  7|2013-07-25 00:00:...| 4530|       COMPLETE|\n",
      "|  8|2013-07-25 00:00:...| 2911|     PROCESSING|\n",
      "|  9|2013-07-25 00:00:...| 5657|PENDING_PAYMENT|\n",
      "| 10|2013-07-25 00:00:...| 5648|PENDING_PAYMENT|\n",
      "| 11|2013-07-25 00:00:...|  918| PAYMENT_REVIEW|\n",
      "| 12|2013-07-25 00:00:...| 1837|         CLOSED|\n",
      "| 13|2013-07-25 00:00:...| 9149|PENDING_PAYMENT|\n",
      "| 14|2013-07-25 00:00:...| 9842|     PROCESSING|\n",
      "| 15|2013-07-25 00:00:...| 2568|       COMPLETE|\n",
      "| 16|2013-07-25 00:00:...| 7276|PENDING_PAYMENT|\n",
      "| 17|2013-07-25 00:00:...| 2667|       COMPLETE|\n",
      "| 18|2013-07-25 00:00:...| 1205|         CLOSED|\n",
      "| 19|2013-07-25 00:00:...| 9488|PENDING_PAYMENT|\n",
      "| 20|2013-07-25 00:00:...| 9198|     PROCESSING|\n",
      "+---+--------------------+-----+---------------+\n",
      "only showing top 20 rows\n",
      "\n"
     ]
    }
   ],
   "source": [
    "orders_df.show()"
   ]
  },
  {
   "cell_type": "code",
   "execution_count": 5,
   "id": "39a92a40",
   "metadata": {},
   "outputs": [],
   "source": [
    "orders_schema = \"order_id long , order_date date, customer_id long,order_status string\""
   ]
  },
  {
   "cell_type": "code",
   "execution_count": 6,
   "id": "7719d51f",
   "metadata": {},
   "outputs": [],
   "source": [
    "orders_df = spark.read \\\n",
    ".format(\"csv\") \\\n",
    ".schema(orders_schema) \\\n",
    ".load(\"/public/trendytech/orders/orders_1gb.csv\")"
   ]
  },
  {
   "cell_type": "code",
   "execution_count": 7,
   "id": "72beed11",
   "metadata": {},
   "outputs": [
    {
     "name": "stdout",
     "output_type": "stream",
     "text": [
      "root\n",
      " |-- order_id: long (nullable = true)\n",
      " |-- order_date: date (nullable = true)\n",
      " |-- customer_id: long (nullable = true)\n",
      " |-- order_status: string (nullable = true)\n",
      "\n"
     ]
    }
   ],
   "source": [
    "orders_df.printSchema()"
   ]
  },
  {
   "cell_type": "code",
   "execution_count": 8,
   "id": "5a1c0eb2",
   "metadata": {},
   "outputs": [
    {
     "name": "stdout",
     "output_type": "stream",
     "text": [
      "+--------+----------+-----------+---------------+\n",
      "|order_id|order_date|customer_id|   order_status|\n",
      "+--------+----------+-----------+---------------+\n",
      "|       1|2013-07-25|      11599|         CLOSED|\n",
      "|       2|2013-07-25|        256|PENDING_PAYMENT|\n",
      "|       3|2013-07-25|      12111|       COMPLETE|\n",
      "|       4|2013-07-25|       8827|         CLOSED|\n",
      "|       5|2013-07-25|      11318|       COMPLETE|\n",
      "|       6|2013-07-25|       7130|       COMPLETE|\n",
      "|       7|2013-07-25|       4530|       COMPLETE|\n",
      "|       8|2013-07-25|       2911|     PROCESSING|\n",
      "|       9|2013-07-25|       5657|PENDING_PAYMENT|\n",
      "|      10|2013-07-25|       5648|PENDING_PAYMENT|\n",
      "|      11|2013-07-25|        918| PAYMENT_REVIEW|\n",
      "|      12|2013-07-25|       1837|         CLOSED|\n",
      "|      13|2013-07-25|       9149|PENDING_PAYMENT|\n",
      "|      14|2013-07-25|       9842|     PROCESSING|\n",
      "|      15|2013-07-25|       2568|       COMPLETE|\n",
      "|      16|2013-07-25|       7276|PENDING_PAYMENT|\n",
      "|      17|2013-07-25|       2667|       COMPLETE|\n",
      "|      18|2013-07-25|       1205|         CLOSED|\n",
      "|      19|2013-07-25|       9488|PENDING_PAYMENT|\n",
      "|      20|2013-07-25|       9198|     PROCESSING|\n",
      "+--------+----------+-----------+---------------+\n",
      "only showing top 20 rows\n",
      "\n"
     ]
    }
   ],
   "source": [
    "orders_df.show()"
   ]
  },
  {
   "cell_type": "code",
   "execution_count": 9,
   "id": "b2c81dc2",
   "metadata": {},
   "outputs": [
    {
     "data": {
      "text/plain": [
       "9"
      ]
     },
     "execution_count": 9,
     "metadata": {},
     "output_type": "execute_result"
    }
   ],
   "source": [
    "orders_df.rdd.getNumPartitions()"
   ]
  },
  {
   "cell_type": "code",
   "execution_count": 10,
   "id": "02ba201a",
   "metadata": {},
   "outputs": [],
   "source": [
    "orders_json_df = spark.read \\\n",
    ".format(\"json\") \\\n",
    ".load(\"/public/trendytech/datasets/json_sample_singleline\")"
   ]
  },
  {
   "cell_type": "code",
   "execution_count": 11,
   "id": "de0caae5",
   "metadata": {},
   "outputs": [
    {
     "name": "stdout",
     "output_type": "stream",
     "text": [
      "+-----------+----------+--------+---------------+\n",
      "|customer_id|order_date|order_id|   order_status|\n",
      "+-----------+----------+--------+---------------+\n",
      "|      11599|2013-07-25|       1|         CLOSED|\n",
      "|        256|2013-07-25|       2|PENDING_PAYMENT|\n",
      "|      12111|2013-07-25|       3|       COMPLETE|\n",
      "|       8827|2013-07-25|       4|         CLOSED|\n",
      "|      11318|2013-07-25|       5|       COMPLETE|\n",
      "|       7130|2013-07-25|       6|       COMPLETE|\n",
      "|       4530|2013-07-25|       7|       COMPLETE|\n",
      "|       2911|2013-07-25|       8|     PROCESSING|\n",
      "|       5657|2013-07-25|       9|PENDING_PAYMENT|\n",
      "|       5648|2013-07-25|      10|PENDING_PAYMENT|\n",
      "|        918|2013-07-25|      11| PAYMENT_REVIEW|\n",
      "|       1837|2013-07-25|      12|         CLOSED|\n",
      "|       9149|2013-07-25|      13|PENDING_PAYMENT|\n",
      "|       9842|2013-07-25|      14|     PROCESSING|\n",
      "|       2568|2013-07-25|      15|       COMPLETE|\n",
      "|       7276|2013-07-25|      16|PENDING_PAYMENT|\n",
      "|       2667|2013-07-25|      17|       COMPLETE|\n",
      "|       1205|2013-07-25|      18|         CLOSED|\n",
      "|       9488|2013-07-25|      19|PENDING_PAYMENT|\n",
      "|       9198|2013-07-25|      20|     PROCESSING|\n",
      "+-----------+----------+--------+---------------+\n",
      "only showing top 20 rows\n",
      "\n"
     ]
    }
   ],
   "source": [
    "orders_json_df.show()"
   ]
  },
  {
   "cell_type": "code",
   "execution_count": 12,
   "id": "6cf92440",
   "metadata": {},
   "outputs": [
    {
     "data": {
      "text/plain": [
       "18"
      ]
     },
     "execution_count": 12,
     "metadata": {},
     "output_type": "execute_result"
    }
   ],
   "source": [
    "orders_json_df.rdd.getNumPartitions()"
   ]
  },
  {
   "cell_type": "code",
   "execution_count": 13,
   "id": "b033d4d4",
   "metadata": {},
   "outputs": [],
   "source": [
    "orders_json_ml_df = spark.read \\\n",
    ".format(\"json\") \\\n",
    ".option(\"multiLine\", True)\\\n",
    ".load(\"/public/trendytech/datasets/json_sample_multiline\")"
   ]
  },
  {
   "cell_type": "code",
   "execution_count": 14,
   "id": "a745cdc7",
   "metadata": {},
   "outputs": [
    {
     "name": "stdout",
     "output_type": "stream",
     "text": [
      "+-----------+----------+--------+---------------+\n",
      "|customer_id|order_date|order_id|   order_status|\n",
      "+-----------+----------+--------+---------------+\n",
      "|      11599|2013-07-25|       1|         CLOSED|\n",
      "|        256|2013-07-25|       2|PENDING_PAYMENT|\n",
      "|      12111|2013-07-25|       3|       COMPLETE|\n",
      "|       8827|2013-07-25|       4|         CLOSED|\n",
      "|      11318|2013-07-25|       5|       COMPLETE|\n",
      "|       7130|2013-07-25|       6|       COMPLETE|\n",
      "|       4530|2013-07-25|       7|       COMPLETE|\n",
      "|       2911|2013-07-25|       8|     PROCESSING|\n",
      "|       5657|2013-07-25|       9|PENDING_PAYMENT|\n",
      "|       5648|2013-07-25|      10|PENDING_PAYMENT|\n",
      "|        918|2013-07-25|      11| PAYMENT_REVIEW|\n",
      "|       1837|2013-07-25|      12|         CLOSED|\n",
      "|       9149|2013-07-25|      13|PENDING_PAYMENT|\n",
      "|       9842|2013-07-25|      14|     PROCESSING|\n",
      "|       2568|2013-07-25|      15|       COMPLETE|\n",
      "|       7276|2013-07-25|      16|PENDING_PAYMENT|\n",
      "|       2667|2013-07-25|      17|       COMPLETE|\n",
      "|       1205|2013-07-25|      18|         CLOSED|\n",
      "|       9488|2013-07-25|      19|PENDING_PAYMENT|\n",
      "|       9198|2013-07-25|      20|     PROCESSING|\n",
      "+-----------+----------+--------+---------------+\n",
      "only showing top 20 rows\n",
      "\n"
     ]
    }
   ],
   "source": [
    "orders_json_ml_df.show()"
   ]
  },
  {
   "cell_type": "code",
   "execution_count": 15,
   "id": "0deea613",
   "metadata": {},
   "outputs": [
    {
     "data": {
      "text/plain": [
       "1"
      ]
     },
     "execution_count": 15,
     "metadata": {},
     "output_type": "execute_result"
    }
   ],
   "source": [
    "orders_json_ml_df.rdd.getNumPartitions()"
   ]
  },
  {
   "cell_type": "code",
   "execution_count": 16,
   "id": "fb0de3dc",
   "metadata": {},
   "outputs": [
    {
     "data": {
      "text/plain": [
       "'134217728b'"
      ]
     },
     "execution_count": 16,
     "metadata": {},
     "output_type": "execute_result"
    }
   ],
   "source": [
    "spark.conf.get('spark.sql.files.maxPartitionBytes')"
   ]
  },
  {
   "cell_type": "code",
   "execution_count": 17,
   "id": "a51b7d97",
   "metadata": {},
   "outputs": [],
   "source": [
    "spark.conf.set('spark.sql.files.maxPartitionBytes', '1342177b')"
   ]
  },
  {
   "cell_type": "code",
   "execution_count": 18,
   "id": "77d5c8b5",
   "metadata": {},
   "outputs": [
    {
     "data": {
      "text/plain": [
       "1.2799997329711914"
      ]
     },
     "execution_count": 18,
     "metadata": {},
     "output_type": "execute_result"
    }
   ],
   "source": [
    "1342177/(1024 * 1024)"
   ]
  },
  {
   "cell_type": "code",
   "execution_count": 19,
   "id": "736f5718",
   "metadata": {},
   "outputs": [],
   "source": [
    "orders_df = spark.read \\\n",
    ".format(\"csv\") \\\n",
    ".schema(orders_schema) \\\n",
    ".load(\"/public/trendytech/orders/orders_1gb.csv\")"
   ]
  },
  {
   "cell_type": "code",
   "execution_count": 20,
   "id": "44b0f3ce",
   "metadata": {},
   "outputs": [
    {
     "data": {
      "text/plain": [
       "839"
      ]
     },
     "execution_count": 20,
     "metadata": {},
     "output_type": "execute_result"
    }
   ],
   "source": [
    "orders_df.rdd.getNumPartitions()"
   ]
  },
  {
   "cell_type": "code",
   "execution_count": 21,
   "id": "404ad7bc",
   "metadata": {},
   "outputs": [],
   "source": [
    "orders_json_ml_df = spark.read \\\n",
    ".format(\"json\") \\\n",
    ".option(\"multiLine\", True)\\\n",
    ".load(\"/public/trendytech/datasets/json_sample_multiline\")"
   ]
  },
  {
   "cell_type": "code",
   "execution_count": 22,
   "id": "88be7ff3",
   "metadata": {},
   "outputs": [
    {
     "data": {
      "text/plain": [
       "1"
      ]
     },
     "execution_count": 22,
     "metadata": {},
     "output_type": "execute_result"
    }
   ],
   "source": [
    "orders_json_ml_df.rdd.getNumPartitions()"
   ]
  },
  {
   "cell_type": "code",
   "execution_count": null,
   "id": "ee1ead34",
   "metadata": {},
   "outputs": [],
   "source": []
  }
 ],
 "metadata": {
  "kernelspec": {
   "display_name": "Pyspark 3",
   "language": "python",
   "name": "pyspark3"
  },
  "language_info": {
   "codemirror_mode": {
    "name": "ipython",
    "version": 3
   },
   "file_extension": ".py",
   "mimetype": "text/x-python",
   "name": "python",
   "nbconvert_exporter": "python",
   "pygments_lexer": "ipython3",
   "version": "3.6.12"
  }
 },
 "nbformat": 4,
 "nbformat_minor": 5
}
