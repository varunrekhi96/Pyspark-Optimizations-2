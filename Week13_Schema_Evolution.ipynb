{
 "cells": [
  {
   "cell_type": "code",
   "execution_count": 4,
   "id": "f902af9a",
   "metadata": {},
   "outputs": [],
   "source": [
    "from pyspark.sql import SparkSession\n",
    "import getpass\n",
    "username = getpass.getuser()\n",
    "spark = SparkSession. \\\n",
    "builder. \\\n",
    "config('spark.ui.port', '0'). \\\n",
    "config('spark.shuffle.useOldFetchProtocol', 'true'). \\\n",
    "config(\"spark.sql.warehouse.dir\", f\"/user/{username}/warehouse\"). \\\n",
    "enableHiveSupport(). \\\n",
    "master('yarn'). \\\n",
    "getOrCreate()"
   ]
  },
  {
   "cell_type": "markdown",
   "id": "d7ff7377",
   "metadata": {},
   "source": [
    "##### Note: Either you can use the path mentioned in the video :/public/trendytech/datasets/parquet-schema-evol-demo/csv or get the files from hadoop to local and then put the files in your hadoop directory like the below path:\n",
    "\n",
    "##### /user/itv006277/datasets/orders1.csv\n",
    "\n",
    "##### here \"itv006277\" should be replaced with your id number"
   ]
  },
  {
   "cell_type": "code",
   "execution_count": 5,
   "id": "a086d218",
   "metadata": {},
   "outputs": [],
   "source": [
    "orders_schema = 'order_id long, order_date date'"
   ]
  },
  {
   "cell_type": "code",
   "execution_count": 6,
   "id": "0b9494ad",
   "metadata": {},
   "outputs": [],
   "source": [
    "orders_df = spark.read \\\n",
    ".format(\"csv\") \\\n",
    ".schema(orders_schema)\\\n",
    ".load(\"/user/itv006277/datasets/orders1.csv\")"
   ]
  },
  {
   "cell_type": "code",
   "execution_count": 7,
   "id": "6b2dc1bc",
   "metadata": {},
   "outputs": [
    {
     "name": "stdout",
     "output_type": "stream",
     "text": [
      "+--------+----------+\n",
      "|order_id|order_date|\n",
      "+--------+----------+\n",
      "|       1|2013-07-25|\n",
      "|       2|2013-07-25|\n",
      "+--------+----------+\n",
      "\n"
     ]
    }
   ],
   "source": [
    "orders_df.show()"
   ]
  },
  {
   "cell_type": "code",
   "execution_count": 8,
   "id": "1c896bbc",
   "metadata": {},
   "outputs": [],
   "source": [
    "orders_df.write \\\n",
    ".mode(\"overwrite\") \\\n",
    ".option(\"path\", \"/user/itv006277/datasets1/parquet\") \\\n",
    ".save()"
   ]
  },
  {
   "cell_type": "code",
   "execution_count": 9,
   "id": "b1a0b732",
   "metadata": {},
   "outputs": [],
   "source": [
    "orders_parquet_df = spark.read \\\n",
    ".load(\"/user/itv006277/datasets1/parquet\")"
   ]
  },
  {
   "cell_type": "code",
   "execution_count": 10,
   "id": "05ad4159",
   "metadata": {},
   "outputs": [
    {
     "name": "stdout",
     "output_type": "stream",
     "text": [
      "+--------+----------+\n",
      "|order_id|order_date|\n",
      "+--------+----------+\n",
      "|       1|2013-07-25|\n",
      "|       2|2013-07-25|\n",
      "+--------+----------+\n",
      "\n"
     ]
    }
   ],
   "source": [
    "orders_parquet_df.show()"
   ]
  },
  {
   "cell_type": "code",
   "execution_count": 11,
   "id": "b279f4bd",
   "metadata": {},
   "outputs": [],
   "source": [
    "orders_schema = 'order_id long, order_date date,customer_id long'"
   ]
  },
  {
   "cell_type": "code",
   "execution_count": 12,
   "id": "0abfd444",
   "metadata": {},
   "outputs": [],
   "source": [
    "orders_df = spark.read \\\n",
    ".format(\"csv\") \\\n",
    ".schema(orders_schema)\\\n",
    ".load(\"/user/itv006277/datasets/orders2.csv\")"
   ]
  },
  {
   "cell_type": "code",
   "execution_count": 13,
   "id": "335e83e1",
   "metadata": {},
   "outputs": [
    {
     "name": "stdout",
     "output_type": "stream",
     "text": [
      "+--------+----------+-----------+\n",
      "|order_id|order_date|customer_id|\n",
      "+--------+----------+-----------+\n",
      "|       3|2013-07-25|      12111|\n",
      "|       4|2013-07-25|       8827|\n",
      "+--------+----------+-----------+\n",
      "\n"
     ]
    }
   ],
   "source": [
    "orders_df.show()"
   ]
  },
  {
   "cell_type": "code",
   "execution_count": 14,
   "id": "ea2aa404",
   "metadata": {},
   "outputs": [],
   "source": [
    "orders_df.write \\\n",
    ".mode(\"append\") \\\n",
    ".option(\"path\", \"/user/itv006277/datasets1/parquet\") \\\n",
    ".save()"
   ]
  },
  {
   "cell_type": "code",
   "execution_count": 15,
   "id": "14678ecf",
   "metadata": {},
   "outputs": [],
   "source": [
    "orders_df = spark.read \\\n",
    ".load(\"/user/itv006277/datasets1/parquet\")"
   ]
  },
  {
   "cell_type": "code",
   "execution_count": 16,
   "id": "e96975b1",
   "metadata": {},
   "outputs": [
    {
     "name": "stdout",
     "output_type": "stream",
     "text": [
      "+--------+----------+-----------+\n",
      "|order_id|order_date|customer_id|\n",
      "+--------+----------+-----------+\n",
      "|       3|2013-07-25|      12111|\n",
      "|       4|2013-07-25|       8827|\n",
      "|       1|2013-07-25|       null|\n",
      "|       2|2013-07-25|       null|\n",
      "+--------+----------+-----------+\n",
      "\n"
     ]
    }
   ],
   "source": [
    "orders_df.show()"
   ]
  },
  {
   "cell_type": "code",
   "execution_count": 17,
   "id": "a1683994",
   "metadata": {},
   "outputs": [],
   "source": [
    "orders_parquet_merged_df = spark.read \\\n",
    ".option(\"mergeSchema\", True) \\\n",
    ".load(\"/user/itv006277/datasets1/parquet\")"
   ]
  },
  {
   "cell_type": "code",
   "execution_count": 18,
   "id": "034d2b94",
   "metadata": {},
   "outputs": [
    {
     "name": "stdout",
     "output_type": "stream",
     "text": [
      "+--------+----------+-----------+\n",
      "|order_id|order_date|customer_id|\n",
      "+--------+----------+-----------+\n",
      "|       3|2013-07-25|      12111|\n",
      "|       4|2013-07-25|       8827|\n",
      "|       1|2013-07-25|       null|\n",
      "|       2|2013-07-25|       null|\n",
      "+--------+----------+-----------+\n",
      "\n"
     ]
    }
   ],
   "source": [
    "orders_parquet_merged_df.show()"
   ]
  },
  {
   "cell_type": "code",
   "execution_count": 19,
   "id": "a1c4424d",
   "metadata": {},
   "outputs": [],
   "source": [
    "orders_schema = 'order_id long, order_date date, order_status string, customer_id long'"
   ]
  },
  {
   "cell_type": "code",
   "execution_count": 20,
   "id": "fddb9920",
   "metadata": {},
   "outputs": [],
   "source": [
    "orders_df = spark.read \\\n",
    ".format(\"csv\") \\\n",
    ".schema(orders_schema)\\\n",
    ".load(\"/user/itv006277/datasets/orders4.csv\")"
   ]
  },
  {
   "cell_type": "code",
   "execution_count": 21,
   "id": "6533c255",
   "metadata": {},
   "outputs": [],
   "source": [
    "orders_df.write \\\n",
    ".mode(\"append\") \\\n",
    ".option(\"path\", \"/user/itv006277/datasets1/parquet\") \\\n",
    ".save()"
   ]
  },
  {
   "cell_type": "code",
   "execution_count": 22,
   "id": "642c90ca",
   "metadata": {},
   "outputs": [],
   "source": [
    "orders_parquet_merged_df = spark.read \\\n",
    ".option(\"mergeSchema\", True) \\\n",
    ".load(\"/user/itv006277/datasets1/parquet\")"
   ]
  },
  {
   "cell_type": "code",
   "execution_count": 23,
   "id": "4f7f5541",
   "metadata": {},
   "outputs": [
    {
     "name": "stdout",
     "output_type": "stream",
     "text": [
      "+--------+----------+-----------+------------+\n",
      "|order_id|order_date|customer_id|order_status|\n",
      "+--------+----------+-----------+------------+\n",
      "|       5|2013-07-25|      11318|    COMPLETE|\n",
      "|       6|2013-07-25|       7130|    COMPLETE|\n",
      "|       3|2013-07-25|      12111|        null|\n",
      "|       4|2013-07-25|       8827|        null|\n",
      "|       1|2013-07-25|       null|        null|\n",
      "|       2|2013-07-25|       null|        null|\n",
      "+--------+----------+-----------+------------+\n",
      "\n"
     ]
    }
   ],
   "source": [
    "orders_parquet_merged_df.show()"
   ]
  },
  {
   "cell_type": "code",
   "execution_count": 24,
   "id": "62af25f6",
   "metadata": {},
   "outputs": [],
   "source": [
    "orders_schema = 'order_id long, order_date date, customer_id long, order_status string'"
   ]
  },
  {
   "cell_type": "code",
   "execution_count": 25,
   "id": "16ec7a05",
   "metadata": {},
   "outputs": [],
   "source": [
    "orders_df = spark.read \\\n",
    ".format(\"csv\") \\\n",
    ".schema(orders_schema)\\\n",
    ".load(\"/user/itv006277/datasets/orders3.csv\")"
   ]
  },
  {
   "cell_type": "code",
   "execution_count": 26,
   "id": "b696a591",
   "metadata": {},
   "outputs": [
    {
     "name": "stdout",
     "output_type": "stream",
     "text": [
      "+--------+----------+-----------+------------+\n",
      "|order_id|order_date|customer_id|order_status|\n",
      "+--------+----------+-----------+------------+\n",
      "|       5|2013-07-25|      11318|    COMPLETE|\n",
      "|       6|2013-07-25|       7130|    COMPLETE|\n",
      "+--------+----------+-----------+------------+\n",
      "\n"
     ]
    }
   ],
   "source": [
    "orders_df.show()"
   ]
  },
  {
   "cell_type": "code",
   "execution_count": 27,
   "id": "0619330a",
   "metadata": {},
   "outputs": [],
   "source": [
    "orders_df.write \\\n",
    ".mode(\"append\") \\\n",
    ".option(\"path\", \"/user/itv006277/datasets1/parquet\") \\\n",
    ".save()"
   ]
  },
  {
   "cell_type": "code",
   "execution_count": 28,
   "id": "7a75f7f5",
   "metadata": {},
   "outputs": [],
   "source": [
    "orders_parquet_merged_df = spark.read \\\n",
    ".option(\"mergeSchema\", True) \\\n",
    ".load(\"/user/itv006277/datasets1/parquet\")"
   ]
  },
  {
   "cell_type": "code",
   "execution_count": 29,
   "id": "ebb615db",
   "metadata": {},
   "outputs": [
    {
     "name": "stdout",
     "output_type": "stream",
     "text": [
      "+--------+----------+-----------+------------+\n",
      "|order_id|order_date|customer_id|order_status|\n",
      "+--------+----------+-----------+------------+\n",
      "|       5|2013-07-25|      11318|    COMPLETE|\n",
      "|       6|2013-07-25|       7130|    COMPLETE|\n",
      "|       5|2013-07-25|      11318|    COMPLETE|\n",
      "|       6|2013-07-25|       7130|    COMPLETE|\n",
      "|       3|2013-07-25|      12111|        null|\n",
      "|       4|2013-07-25|       8827|        null|\n",
      "|       1|2013-07-25|       null|        null|\n",
      "|       2|2013-07-25|       null|        null|\n",
      "+--------+----------+-----------+------------+\n",
      "\n"
     ]
    }
   ],
   "source": [
    "orders_parquet_merged_df.show()"
   ]
  },
  {
   "cell_type": "code",
   "execution_count": null,
   "id": "42ebc706",
   "metadata": {},
   "outputs": [],
   "source": []
  }
 ],
 "metadata": {
  "kernelspec": {
   "display_name": "Pyspark 3",
   "language": "python",
   "name": "pyspark3"
  },
  "language_info": {
   "codemirror_mode": {
    "name": "ipython",
    "version": 3
   },
   "file_extension": ".py",
   "mimetype": "text/x-python",
   "name": "python",
   "nbconvert_exporter": "python",
   "pygments_lexer": "ipython3",
   "version": "3.6.12"
  }
 },
 "nbformat": 4,
 "nbformat_minor": 5
}
