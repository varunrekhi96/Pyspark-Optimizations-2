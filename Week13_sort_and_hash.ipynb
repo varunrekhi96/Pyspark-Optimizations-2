{
 "cells": [
  {
   "cell_type": "code",
   "execution_count": 1,
   "id": "583403d1",
   "metadata": {},
   "outputs": [],
   "source": [
    "from pyspark.sql import SparkSession\n",
    "import getpass\n",
    "username = getpass.getuser()\n",
    "spark = SparkSession. \\\n",
    "builder. \\\n",
    "config('spark.ui.port', '0'). \\\n",
    "config('spark.shuffle.useOldFetchProtocol', 'true'). \\\n",
    "config(\"spark.sql.warehouse.dir\", f\"/user/{username}/warehouse\"). \\\n",
    "enableHiveSupport(). \\\n",
    "master('yarn'). \\\n",
    "getOrCreate()"
   ]
  },
  {
   "cell_type": "code",
   "execution_count": 2,
   "id": "c11be541",
   "metadata": {},
   "outputs": [],
   "source": [
    "orders_schema = \"order_id long , order_date string, customer_id long,order_status string\""
   ]
  },
  {
   "cell_type": "code",
   "execution_count": 3,
   "id": "0eae8bd0",
   "metadata": {},
   "outputs": [],
   "source": [
    "orders_df = spark.read \\\n",
    ".format(\"csv\") \\\n",
    ".schema(orders_schema) \\\n",
    ".load(\"/public/trendytech/retail_db/ordersnew\")"
   ]
  },
  {
   "cell_type": "code",
   "execution_count": 4,
   "id": "cd77ea2b",
   "metadata": {},
   "outputs": [
    {
     "name": "stdout",
     "output_type": "stream",
     "text": [
      "+--------+--------------------+-----------+------------+\n",
      "|order_id|          order_date|customer_id|order_status|\n",
      "+--------+--------------------+-----------+------------+\n",
      "|    2480|2013-08-07 00:00:...|       3807|    COMPLETE|\n",
      "|   30479|2014-01-30 00:00:...|       9265|    COMPLETE|\n",
      "|    2481|2013-08-07 00:00:...|       2476|    COMPLETE|\n",
      "|   30481|2014-01-30 00:00:...|       9240|    COMPLETE|\n",
      "|    2483|2013-08-07 00:00:...|      10453|    COMPLETE|\n",
      "|   30484|2014-01-30 00:00:...|       2876|    COMPLETE|\n",
      "|    2484|2013-08-07 00:00:...|       9256|    COMPLETE|\n",
      "|   30485|2014-01-30 00:00:...|       1069|    COMPLETE|\n",
      "|    2488|2013-08-07 00:00:...|       1255|    COMPLETE|\n",
      "|   30486|2014-01-30 00:00:...|       1151|    COMPLETE|\n",
      "|    2491|2013-08-07 00:00:...|        247|    COMPLETE|\n",
      "|   30487|2014-01-30 00:00:...|       6772|    COMPLETE|\n",
      "|    2495|2013-08-07 00:00:...|       9011|    COMPLETE|\n",
      "|   30489|2014-01-30 00:00:...|       5717|    COMPLETE|\n",
      "|    2498|2013-08-07 00:00:...|       1966|    COMPLETE|\n",
      "|   30490|2014-01-30 00:00:...|      12189|    COMPLETE|\n",
      "|    2511|2013-08-07 00:00:...|       8544|    COMPLETE|\n",
      "|   30492|2014-01-30 00:00:...|       3710|    COMPLETE|\n",
      "|    2515|2013-08-07 00:00:...|      12056|    COMPLETE|\n",
      "|   30494|2014-01-30 00:00:...|       2724|    COMPLETE|\n",
      "+--------+--------------------+-----------+------------+\n",
      "only showing top 20 rows\n",
      "\n"
     ]
    }
   ],
   "source": [
    "orders_df.show()"
   ]
  },
  {
   "cell_type": "code",
   "execution_count": 5,
   "id": "65b91ccf",
   "metadata": {},
   "outputs": [],
   "source": [
    "orders_df.createOrReplaceTempView(\"orders\")"
   ]
  },
  {
   "cell_type": "code",
   "execution_count": 6,
   "id": "e2dd6050",
   "metadata": {},
   "outputs": [
    {
     "name": "stdout",
     "output_type": "stream",
     "text": [
      "+-----------+-----------+-----------+\n",
      "|customer_id|order_month|total_count|\n",
      "+-----------+-----------+-----------+\n",
      "|      11163|      April|       2010|\n",
      "|       4083|      April|        375|\n",
      "|       3035|      April|        375|\n",
      "|       3832|      April|       2007|\n",
      "|       1433|      April|        375|\n",
      "|       7996|      April|       2007|\n",
      "|       2913|      April|        375|\n",
      "|      12068|      April|       2007|\n",
      "|       5520|      April|        375|\n",
      "|       4961|      April|       2007|\n",
      "|      12179|      April|        375|\n",
      "|       2247|      April|       2007|\n",
      "|       7535|      April|        750|\n",
      "|       9555|      April|       2382|\n",
      "|       2668|      April|        375|\n",
      "|       5575|      April|       2007|\n",
      "|         12|      April|        375|\n",
      "|       2057|      April|       2007|\n",
      "|       9730|      April|        375|\n",
      "|       6868|      April|       2007|\n",
      "+-----------+-----------+-----------+\n",
      "only showing top 20 rows\n",
      "\n"
     ]
    }
   ],
   "source": [
    "spark.sql(\"\"\"select customer_id, date_format(order_date, 'MMMM') as order_month, \n",
    "count(1) as total_count from orders\n",
    "group by customer_id, order_month order by order_month\"\"\").show()"
   ]
  },
  {
   "cell_type": "code",
   "execution_count": 7,
   "id": "5bc4d4e3",
   "metadata": {},
   "outputs": [
    {
     "name": "stdout",
     "output_type": "stream",
     "text": [
      "+-----------+-----------+---------+---------+\n",
      "|customer_id|order_month|tot_count|month_num|\n",
      "+-----------+-----------+---------+---------+\n",
      "|       1902|    January|      375|       01|\n",
      "|       4124|    January|      375|       01|\n",
      "|       3648|    January|      375|       01|\n",
      "|       3692|    January|     2010|       01|\n",
      "|       3764|    January|     4395|       01|\n",
      "|       4473|    January|     6030|       01|\n",
      "|       4711|    January|      750|       01|\n",
      "|       4871|    January|      375|       01|\n",
      "|       5186|    January|     2010|       01|\n",
      "|       6122|    January|     2010|       01|\n",
      "|       6128|    January|      375|       01|\n",
      "|       7396|    January|     2010|       01|\n",
      "|       8156|    January|     2760|       01|\n",
      "|       8159|    January|     2010|       01|\n",
      "|       8554|    January|      375|       01|\n",
      "|       8864|    January|      375|       01|\n",
      "|       9463|    January|     2010|       01|\n",
      "|       9567|    January|     2010|       01|\n",
      "|       9855|    January|      375|       01|\n",
      "|       9860|    January|      375|       01|\n",
      "+-----------+-----------+---------+---------+\n",
      "only showing top 20 rows\n",
      "\n"
     ]
    }
   ],
   "source": [
    "spark.sql(\"\"\"select customer_id, date_format(order_date, 'MMMM') as order_month, \n",
    "count(1) as tot_count, first(date_format(order_date, 'MM')) as month_num from orders\n",
    "group by customer_id, order_month order by month_num\n",
    "\"\"\").show()"
   ]
  },
  {
   "cell_type": "code",
   "execution_count": 8,
   "id": "88c4a0b3",
   "metadata": {},
   "outputs": [],
   "source": [
    "spark.sql(\"\"\"select customer_id, date_format(order_date, 'MMMM') as order_month, \n",
    "count(1) as tot_count, first(date_format(order_date, 'MM')) as month_num from orders\n",
    "group by customer_id, order_month order by month_num\n",
    "\"\"\").write.format(\"noop\").mode(\"overwrite\").save()"
   ]
  },
  {
   "cell_type": "code",
   "execution_count": 11,
   "id": "a1a24383",
   "metadata": {},
   "outputs": [
    {
     "name": "stdout",
     "output_type": "stream",
     "text": [
      "+-----------+-----------+---------+---------+\n",
      "|customer_id|order_month|tot_count|month_num|\n",
      "+-----------+-----------+---------+---------+\n",
      "|       8763|    January|     2010|        1|\n",
      "|       1852|    January|      375|        1|\n",
      "|       5235|    January|     2010|        1|\n",
      "|        332|    January|     2010|        1|\n",
      "|       3275|    January|     2385|        1|\n",
      "|       4618|    January|     4770|        1|\n",
      "|       5291|    January|     2010|        1|\n",
      "|       3699|    January|     2385|        1|\n",
      "|      12232|    January|     2010|        1|\n",
      "|      12198|    January|     4395|        1|\n",
      "|       5633|    January|     2010|        1|\n",
      "|        255|    January|     2010|        1|\n",
      "|      11418|    January|      375|        1|\n",
      "|       3080|    January|      375|        1|\n",
      "|      10275|    January|      375|        1|\n",
      "|       2150|    January|      375|        1|\n",
      "|       9300|    January|      375|        1|\n",
      "|       9435|    January|      750|        1|\n",
      "|       6951|    January|      375|        1|\n",
      "|       6012|    January|      375|        1|\n",
      "+-----------+-----------+---------+---------+\n",
      "only showing top 20 rows\n",
      "\n"
     ]
    }
   ],
   "source": [
    "spark.sql(\"\"\"\n",
    "select customer_id, date_format(order_date, 'MMMM') as order_month, \n",
    "count(1) as tot_count, first(int(date_format(order_date, 'MM'))) as month_num from orders\n",
    "group by customer_id, order_month order by month_num\n",
    "\"\"\").show()"
   ]
  },
  {
   "cell_type": "code",
   "execution_count": 12,
   "id": "cafeb795",
   "metadata": {},
   "outputs": [],
   "source": [
    "spark.sql(\"\"\"\n",
    "select customer_id, date_format(order_date, 'MMMM') as order_month, \n",
    "count(1) as tot_count, first(int(date_format(order_date, 'MM'))) as month_num from orders\n",
    "group by customer_id, order_month order by month_num\n",
    "\"\"\").write.format(\"noop\").mode(\"overwrite\").save()"
   ]
  },
  {
   "cell_type": "code",
   "execution_count": null,
   "id": "3b396463",
   "metadata": {},
   "outputs": [],
   "source": []
  }
 ],
 "metadata": {
  "kernelspec": {
   "display_name": "Pyspark 3",
   "language": "python",
   "name": "pyspark3"
  },
  "language_info": {
   "codemirror_mode": {
    "name": "ipython",
    "version": 3
   },
   "file_extension": ".py",
   "mimetype": "text/x-python",
   "name": "python",
   "nbconvert_exporter": "python",
   "pygments_lexer": "ipython3",
   "version": "3.6.12"
  }
 },
 "nbformat": 4,
 "nbformat_minor": 5
}
